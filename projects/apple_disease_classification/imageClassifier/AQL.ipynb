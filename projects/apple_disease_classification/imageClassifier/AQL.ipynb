{
 "cells": [
  {
   "cell_type": "markdown",
   "metadata": {},
   "source": [
    "#### Import libraries:"
   ]
  },
  {
   "cell_type": "code",
   "execution_count": null,
   "metadata": {},
   "outputs": [],
   "source": [
    "import random\n",
    "from random import shuffle\n",
    "import matplotlib\n",
    "import matplotlib.pyplot as plt\n",
    "import numpy as np\n",
    "\n",
    "# from sklearn.metrics import classification_report\n",
    "from sklearn.metrics import confusion_matrix\n",
    "from sklearn.metrics import ConfusionMatrixDisplay\n",
    "\n",
    "import tensorflow as tf\n",
    "from tensorflow.keras.models import load_model\n",
    "from tensorflow.keras.utils import load_img\n",
    "\n",
    "# from tensorflow.keras.utils import load_img"
   ]
  },
  {
   "cell_type": "markdown",
   "metadata": {},
   "source": [
    "## De opdracht \n",
    "\n",
    "Er zijn meerdere methoden voor het beoordelen van een appel batch. Voor dit project vragen we jullie om een implementatie te maken van het zogenaamde Acceptance Quality Limit (AQL) protocol. Dit protocol is een industriestandaard voor statistische kwaliteitscontroles. Informatie hierover vinden jullie in de projectbijlages (aql_poster.pdf). \n",
    "\n",
    "We hanteren de volgende kwaliteitslabels: \n",
    "\n",
    "Klasse 1: kwaliteit appels is goed genoeg om in supermarkt of bij groenteboer​ te liggen \n",
    "Klasse 2: kwaliteit appels is goed genoeg voor verwerking in appelmoes \n",
    "Klasse 3: kwaliteit appels is goed genoeg voor verwerking in stroop \n",
    "Afgekeurd: kwaliteit is onvoldoende voor bovenstaande toepassingen \n",
    " \n",
    "In termen van het AQL inspectieschema: \n",
    "\n",
    "General Inspection Level: 1 \n",
    "Lot size: een oogst batch bevat tussen de 5.000 en 10.000 appels \n",
    "\n",
    "Klasse 1: AQL kleiner of gelijk aan 0.4 \n",
    "\n",
    "Klasse 2: AQL tussen 0.4 en 2.5 \n",
    "\n",
    "Klasse 3: AQL tussen 2.5 en 6.5 \n",
    "\n",
    "Afgekeurd: AQL groter dan 6.5 \n",
    " \n",
    "Schrijf ook een compact programma dat op basis van de validatie- en test-set van de appels een batch samenstelt, waarop je een inspectie kunt uitvoeren. Genereer bijvoorbeeld een batch met een sample size van 80 appels, waarvan 72 gezond, 4 met blotch, 1 met rot en 3 met scab, en voer dit aan je afwijkingherkenner. Hieruit moet dan het juiste kwaliteitslabel rollen. "
   ]
  },
  {
   "cell_type": "markdown",
   "metadata": {},
   "source": [
    "Batch =  # 80 apples uit de 'use' folder\n",
    "  -> omzetten naar juiste pixelwaarde\n",
    "\n",
    "1. directory en modelV2 inladen \n",
    "2. list maken\n",
    "3. list aanvullen met lege arrays (len(data_80)) 264x264\n",
    "4. \n",
    "voer de batch in het model -> model.predict\n",
    "\n",
    "aql op het de uitkomst van de batch\n",
    "\n"
   ]
  },
  {
   "cell_type": "code",
   "execution_count": null,
   "metadata": {},
   "outputs": [],
   "source": [
    "# MobileNetV2 = load_model('models/mobileNetV2_256px.h5')\n",
    "model = load_model('models/cleanedAndAugumented_470images_M3_256px.h5')"
   ]
  },
  {
   "cell_type": "markdown",
   "metadata": {},
   "source": []
  },
  {
   "cell_type": "code",
   "execution_count": null,
   "metadata": {},
   "outputs": [],
   "source": [
    "#cnn\n",
    "# Option 1: prediction based on a downloaded and imported photo.\n",
    "\n",
    "openImage1 = load_img('data/use_256x256/2a5r2j8.jpg')\n",
    "mobileNetV2 = r'models/mobileNetV2_256px.h5'\n",
    "\n",
    "def makePrediction(openImage): # functie voor om plaa\n",
    "    \n",
    "    img = np.asarray(openImage).astype('uint8')/255 # normaliseren van de foto.\n",
    "    img_array = tf.keras.utils.img_to_array(img)\n",
    "    img_array = tf.expand_dims(img_array, 0)\n",
    "    \n",
    "    model = tf.keras.models.load_model(mobileNetV2 ) # inladen trainingsmodel in keras?\n",
    "    \n",
    "    prediction = model.predict(img_array)\n",
    "    score = tf.nn.sigmoid(prediction[0])\n",
    "    # print('This image most likely belongs to {} with a {:.2f} percent confidence.'\n",
    "    #      .format(labelNames[np.argmax(score)], 100 * np.max(score)),'\\n'\n",
    "    #      )\n",
    "    plt.imshow(img)\n",
    "    print(score)\n",
    "\n",
    "\n",
    "makePrediction(openImage1)\n",
    "\n",
    "\n",
    "\n",
    "# TO DO: labels koppelen aan uitkomsten\n",
    "\n",
    "\n"
   ]
  },
  {
   "cell_type": "code",
   "execution_count": null,
   "metadata": {},
   "outputs": [],
   "source": [
    "# CCN Opdracht \n",
    "\n",
    "img = load_img('data/use_256x256/2.jpg')\n",
    "\n",
    "np.shape(img)\n",
    "\n",
    "img_array = tf.keras.utils.img_to_array(img)\n",
    "\n",
    "np.shape(img_array)\n",
    "\n",
    "model.predict(img_array)\n",
    "\n",
    "# img = np.asarray(img).astype('uint8')/255 # normaliseren van de foto.\n",
    "\n",
    "\n",
    "# MobileNetV2.get_config()"
   ]
  },
  {
   "cell_type": "code",
   "execution_count": null,
   "metadata": {},
   "outputs": [],
   "source": []
  },
  {
   "cell_type": "code",
   "execution_count": null,
   "metadata": {},
   "outputs": [],
   "source": []
  },
  {
   "cell_type": "code",
   "execution_count": null,
   "metadata": {},
   "outputs": [],
   "source": [
    "blotchApples = result_confusion_matrix\n",
    "normalApples = result_confusion_matrix\n",
    "rotApples = result_confusion_matrix\n",
    "scabApples = result_confusion_matrix"
   ]
  },
  {
   "cell_type": "code",
   "execution_count": null,
   "metadata": {},
   "outputs": [],
   "source": [
    "print(f'Blotch apples: {blotchApples}')\n",
    "print(f'Normal apples: {normalApples}')\n",
    "print(f'Rot apples: {rotApples}')\n",
    "print(f'Scab apples: {scabApples}')\n"
   ]
  },
  {
   "cell_type": "code",
   "execution_count": null,
   "metadata": {},
   "outputs": [],
   "source": []
  }
 ],
 "metadata": {
  "kernelspec": {
   "display_name": "Python 3.9.13 ('base')",
   "language": "python",
   "name": "python3"
  },
  "language_info": {
   "codemirror_mode": {
    "name": "ipython",
    "version": 3
   },
   "file_extension": ".py",
   "mimetype": "text/x-python",
   "name": "python",
   "nbconvert_exporter": "python",
   "pygments_lexer": "ipython3",
   "version": "3.9.13"
  },
  "orig_nbformat": 4,
  "vscode": {
   "interpreter": {
    "hash": "4a868478128082cb5ea3f8e684dd7cf0a14a2d1262b4ff6302d99ea6747d278e"
   }
  }
 },
 "nbformat": 4,
 "nbformat_minor": 2
}
