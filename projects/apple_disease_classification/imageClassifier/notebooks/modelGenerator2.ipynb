{
 "cells": [
  {
   "cell_type": "markdown",
   "metadata": {},
   "source": [
    "#### Import libraries:"
   ]
  },
  {
   "cell_type": "code",
   "execution_count": 1,
   "metadata": {},
   "outputs": [],
   "source": [
    "from PIL import Image\n",
    "import io\n",
    "import matplotlib.pyplot as plt\n",
    "import matplotlib.image as mpimg\n",
    "import numpy as np\n",
    "from numpy import expand_dims\n",
    "import os\n",
    "from sklearn.model_selection import train_test_split\n",
    "from sklearn import metrics\n",
    "from sklearn.metrics import classification_report\n",
    "import random\n",
    "import requests\n",
    "import tensorflow as tf\n",
    "import tensorflow.keras as keras\n",
    "from tensorflow.keras.models import Sequential\n",
    "from tensorflow.keras.layers import Conv2D, MaxPooling2D, Dense, Flatten, Dropout\n",
    "from tensorflow.keras import datasets, layers, models\n",
    "from tensorflow.keras.utils import load_img\n",
    "from tensorflow.keras.utils import img_to_array \n",
    "import zipfile\n"
   ]
  },
  {
   "cell_type": "markdown",
   "metadata": {},
   "source": [
    "# ModelGenerator2\n",
    "\n",
    "In deze tweede 'model generator' genaamd **'modelGenerator2'** wil ik de data op dezelfde manier inladen als wij geleerd hebben in de Notebook Numpy2. De reden waarom ik een tweede model generator maak is omdat ik controlle wil hebben over de data die ik het model aanbied. In het bijzonder over de aantallen binnen de subklasses van de train folder. Ik wil kijken wat het effect is op het model wanneer ik een gelijkmatig verdeelde trainingset aanbied. \n",
    "\n",
    "Dit resulteerd in: \n",
    "470 afbeeldingen voor 'Blotch_apples'\n",
    "470 afbeeldingen voor 'Normal_apples'\n",
    "470 afbeeldingen voor 'Rot_apples'\n",
    "470 afbeeldingen voor 'Scab_apples'\n",
    "\n",
    "\n",
    "Het is met \"tf.keras.utils.image_dataset_from_directory\" niet gelukt om deze gelijkmatigheid te bereiken. VERVOLG\n"
   ]
  },
  {
   "cell_type": "markdown",
   "metadata": {},
   "source": []
  },
  {
   "cell_type": "markdown",
   "metadata": {},
   "source": [
    "## Inladen van de data\n",
    "\n",
    "De 'augumented' data is onderscheiden door de soort bewerking voor de bestandsnaam toe te voegen. Deze zijn te herkennnen aan de namen 'flipped', 'black' en 'duotone'."
   ]
  },
  {
   "cell_type": "code",
   "execution_count": 2,
   "metadata": {},
   "outputs": [],
   "source": [
    "imgHeight = 100\n",
    "imgWidth = 100"
   ]
  },
  {
   "cell_type": "code",
   "execution_count": 3,
   "metadata": {},
   "outputs": [],
   "source": [
    "txtFiles = list() # deze lijst wordt aangemaakt om later hier onder te kunnen gebruiken bij het aanmaken van de lijsten met bestandsnamen uit de verschillende klasses."
   ]
  },
  {
   "cell_type": "code",
   "execution_count": 4,
   "metadata": {},
   "outputs": [],
   "source": [
    "categories = ['Blotch', 'Normal', 'Rot', 'Scab']\n",
    "\n",
    "trainDir = \"data/Train_cleaned_and_augumented\"\n",
    "\n",
    "for category in categories:\n",
    "  imgDir = f\"{trainDir}/{category}_Apple/\"\n",
    "  for filename in os.listdir(imgDir): \n",
    "    txtFile = os.path.join(imgDir, filename)\n",
    "    txtFiles.append(txtFile) \n",
    "    # print(txtFile)\n"
   ]
  },
  {
   "cell_type": "code",
   "execution_count": 5,
   "metadata": {},
   "outputs": [
    {
     "data": {
      "text/plain": [
       "list"
      ]
     },
     "execution_count": 5,
     "metadata": {},
     "output_type": "execute_result"
    }
   ],
   "source": [
    "type(txtFiles)"
   ]
  },
  {
   "cell_type": "markdown",
   "metadata": {},
   "source": [
    "## Data inlezen"
   ]
  },
  {
   "cell_type": "code",
   "execution_count": 6,
   "metadata": {},
   "outputs": [
    {
     "name": "stdout",
     "output_type": "stream",
     "text": [
      "2949\n"
     ]
    }
   ],
   "source": [
    "txtFiles = [x for x in txtFiles if \".jpeg\" in x] #  jpeb filteren.\n",
    "print(len(txtFiles))"
   ]
  },
  {
   "cell_type": "code",
   "execution_count": 7,
   "metadata": {},
   "outputs": [
    {
     "ename": "ValueError",
     "evalue": "could not broadcast input array from shape (215,234,3) into shape (100,100,3)",
     "output_type": "error",
     "traceback": [
      "\u001b[0;31m---------------------------------------------------------------------------\u001b[0m",
      "\u001b[0;31mValueError\u001b[0m                                Traceback (most recent call last)",
      "Cell \u001b[0;32mIn [7], line 6\u001b[0m\n\u001b[1;32m      3\u001b[0m i \u001b[39m=\u001b[39m \u001b[39m0\u001b[39m\n\u001b[1;32m      5\u001b[0m \u001b[39mfor\u001b[39;00m txtFile \u001b[39min\u001b[39;00m txtFiles:\n\u001b[0;32m----> 6\u001b[0m     imageObjects[i] \u001b[39m=\u001b[39m np\u001b[39m.\u001b[39masarray(Image\u001b[39m.\u001b[39mopen(txtFile))\u001b[39m.\u001b[39mastype(\u001b[39m'\u001b[39m\u001b[39muint8\u001b[39m\u001b[39m'\u001b[39m)\u001b[39m/\u001b[39m\u001b[39m255\u001b[39m \u001b[39m# Afbeelding wordt genormaliseerd.\u001b[39;00m\n\u001b[1;32m      7\u001b[0m     i \u001b[39m+\u001b[39m\u001b[39m=\u001b[39m \u001b[39m1\u001b[39m\n\u001b[1;32m      9\u001b[0m imageObjects \u001b[39m=\u001b[39m np\u001b[39m.\u001b[39marray(imageObjects)\n",
      "\u001b[0;31mValueError\u001b[0m: could not broadcast input array from shape (215,234,3) into shape (100,100,3)"
     ]
    }
   ],
   "source": [
    "imageObjects= np.zeros([len(txtFiles), imgHeight, imgWidth, 3]) \n",
    "\n",
    "i = 0\n",
    "\n",
    "for txtFile in txtFiles:\n",
    "    imageObjects[i] = np.asarray(Image.open(txtFile)).astype('uint8')/255 # Afbeelding wordt genormaliseerd.\n",
    "    i += 1\n",
    "\n",
    "imageObjects = np.array(imageObjects) # List wordt omgezet in array.\n"
   ]
  },
  {
   "cell_type": "code",
   "execution_count": 8,
   "metadata": {},
   "outputs": [
    {
     "data": {
      "text/plain": [
       "(2949, 100, 100, 3)"
      ]
     },
     "execution_count": 8,
     "metadata": {},
     "output_type": "execute_result"
    }
   ],
   "source": [
    "np.shape(imageObjects)"
   ]
  },
  {
   "cell_type": "markdown",
   "metadata": {},
   "source": [
    "### Gebruik de bestandsnamen voor het verkrijgen van de labels"
   ]
  },
  {
   "cell_type": "code",
   "execution_count": null,
   "metadata": {},
   "outputs": [],
   "source": [
    "# imageLabels = np.empty(len(txtFiles), dtype = 'S20')\n",
    "\n",
    "i = 0\n",
    "\n",
    "for label in txtFiles:\n",
    "    txtFiles[i] = label.split('/')[2]\n",
    "    i += 1\n",
    "    \n",
    "labelNames, labelNumbers = np.unique(txtFiles, return_inverse=True)\n",
    "labelDict = dict(zip(np.unique(labelNumbers), labelNames))\n",
    "\n",
    "print(labelNames)\n",
    "print(labelNumbers)\n",
    "\n",
    "np.array(np.unique(labelNumbers, return_counts=True)).T # demonstratie van methode unique. "
   ]
  },
  {
   "cell_type": "code",
   "execution_count": null,
   "metadata": {},
   "outputs": [],
   "source": [
    "txtFilesSel = list()\n",
    "imageObjectsSel = list()\n",
    "indexRanges = [(0,888),(888,1360),(1360,2272),(2272,2949)] # kijk of je dit nog kunt automatiseren door te koppelen aan de lengte van...\n",
    "\n",
    "for indexR in indexRanges:\n",
    "    for number in range (470): # Nadeel -> wordt elke keer opnieuw bepaald\n",
    "        randomIndex = random.choice(range(indexR[0],indexR[1]))\n",
    "        txtFilesSel.append(txtFiles[randomIndex])\n",
    "        imageObjectsSel.append(imageObjects[randomIndex])\n",
    "\n",
    "imageObjects = np.array(imageObjectsSel) # omzetten van lijst naar array\n"
   ]
  },
  {
   "cell_type": "markdown",
   "metadata": {},
   "source": [
    "## Data splitten"
   ]
  },
  {
   "cell_type": "code",
   "execution_count": null,
   "metadata": {},
   "outputs": [],
   "source": [
    "np.shape(imageObjects)"
   ]
  },
  {
   "cell_type": "code",
   "execution_count": null,
   "metadata": {},
   "outputs": [],
   "source": [
    "trainSet, testSet, trainLabels, testLabels = train_test_split(imageObjects, labelNumbers, stratify = labelNumbers, train_size = 0.75, random_state=42)\n",
    "print(trainSet.shape)\n",
    "nrOfImages = len(trainSet)"
   ]
  },
  {
   "cell_type": "code",
   "execution_count": null,
   "metadata": {},
   "outputs": [],
   "source": [
    "print(nrOfImages)"
   ]
  },
  {
   "cell_type": "markdown",
   "metadata": {},
   "source": [
    "## Data inspecteren"
   ]
  },
  {
   "cell_type": "code",
   "execution_count": null,
   "metadata": {},
   "outputs": [],
   "source": [
    "def inspectData():\n",
    "    \n",
    "    plt.figure(figsize=(10,10))\n",
    "    \n",
    "    for i in range(16):\n",
    "        plt.subplot(4, 4, i+1)\n",
    "        plt.xticks([])\n",
    "        plt.yticks([])\n",
    "        plt.grid(False)\n",
    "        number = i\n",
    "        plt.imshow(trainSet[number])\n",
    "        plt.xlabel(labelNames[trainLabels[number]]) \n",
    "    \n",
    "    plt.show()"
   ]
  },
  {
   "cell_type": "code",
   "execution_count": null,
   "metadata": {},
   "outputs": [],
   "source": [
    "inspectData()"
   ]
  },
  {
   "cell_type": "markdown",
   "metadata": {},
   "source": [
    "## Bouwen van het model"
   ]
  },
  {
   "cell_type": "code",
   "execution_count": null,
   "metadata": {},
   "outputs": [],
   "source": [
    "# #model 2 geinspireerd van nick nochnack\n",
    "\n",
    "model = Sequential()\n",
    "num_classes = len(categories)\n",
    "\n",
    "model.add(layers.Rescaling(1./255, input_shape=(imgHeight, imgWidth, 3)))\n",
    "model.add(Conv2D(32, (3,3), 1, activation='relu'))\n",
    "model.add(MaxPooling2D())\n",
    "model.add(Conv2D(32, (3,3), 1, activation='relu'))\n",
    "model.add(MaxPooling2D())\n",
    "model.add(Conv2D(32, (3,3), 1, activation='relu'))\n",
    "model.add(MaxPooling2D())\n",
    "model.add(Flatten())\n",
    "model.add(Dense(256, activation='relu'))\n",
    "model.add(layers.Dense(num_classes))\n",
    "\n",
    "model.summary()"
   ]
  },
  {
   "cell_type": "markdown",
   "metadata": {},
   "source": [
    "### Definieer de trainparameters "
   ]
  },
  {
   "cell_type": "code",
   "execution_count": null,
   "metadata": {},
   "outputs": [],
   "source": [
    "lossFunction = keras.losses.SparseCategoricalCrossentropy(from_logits=True)\n",
    "gdAlgorithm = keras.optimizers.Adam(learning_rate=0.001)\n",
    "nrOfEpochs = 5"
   ]
  },
  {
   "cell_type": "markdown",
   "metadata": {},
   "source": [
    "## Train het model"
   ]
  },
  {
   "cell_type": "code",
   "execution_count": null,
   "metadata": {},
   "outputs": [],
   "source": [
    "model.compile(optimizer=gdAlgorithm, loss=lossFunction, metrics=\"accuracy\")\n"
   ]
  },
  {
   "cell_type": "code",
   "execution_count": null,
   "metadata": {},
   "outputs": [],
   "source": [
    "history = model.fit(trainSet, trainLabels, epochs=nrOfEpochs, batch_size=64, verbose=2)"
   ]
  },
  {
   "cell_type": "markdown",
   "metadata": {},
   "source": [
    "Ga gericht opzoek naar de omzetting van numpy naar tensor "
   ]
  },
  {
   "cell_type": "code",
   "execution_count": null,
   "metadata": {},
   "outputs": [],
   "source": [
    "# model.save(os.path.join(f'models/[new]px.h5'))"
   ]
  },
  {
   "cell_type": "markdown",
   "metadata": {},
   "source": [
    "## Evalueer het model"
   ]
  },
  {
   "cell_type": "code",
   "execution_count": null,
   "metadata": {},
   "outputs": [],
   "source": [
    "# test_data_dir = '/Users/boyfrankclaesen/workspace/makeAIWork2/projects/apple_disease_classification/classifier/data/Test'\n",
    "\n",
    "# test_ds = tf.keras.utils.image_dataset_from_directory(\n",
    "#   test_data_dir,\n",
    "#   seed=123,\n",
    "#   image_size=(imgHeight, imgWidth),\n",
    "#   batch_size=batch_size)"
   ]
  },
  {
   "cell_type": "code",
   "execution_count": null,
   "metadata": {},
   "outputs": [],
   "source": [
    "# scores = model.evaluate(test_ds)"
   ]
  }
 ],
 "metadata": {
  "kernelspec": {
   "display_name": "Python 3.10.8 ('nlp')",
   "language": "python",
   "name": "python3"
  },
  "language_info": {
   "codemirror_mode": {
    "name": "ipython",
    "version": 3
   },
   "file_extension": ".py",
   "mimetype": "text/x-python",
   "name": "python",
   "nbconvert_exporter": "python",
   "pygments_lexer": "ipython3",
   "version": "3.10.8"
  },
  "orig_nbformat": 4,
  "vscode": {
   "interpreter": {
    "hash": "08dcd7b465d662d455112702df3945fb76eb8b6c054b50adde9f3b27fa63f4f4"
   }
  }
 },
 "nbformat": 4,
 "nbformat_minor": 2
}
