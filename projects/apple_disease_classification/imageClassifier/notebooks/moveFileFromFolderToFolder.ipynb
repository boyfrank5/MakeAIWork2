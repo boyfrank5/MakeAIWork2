{
 "cells": [
  {
   "cell_type": "markdown",
   "metadata": {},
   "source": [
    "## Import libraries:"
   ]
  },
  {
   "cell_type": "code",
   "execution_count": 4,
   "metadata": {},
   "outputs": [],
   "source": [
    "import os\n",
    "import random\n",
    "import shutil"
   ]
  },
  {
   "cell_type": "markdown",
   "metadata": {},
   "source": [
    "# Het random verplaatsen van data\n",
    "Maak een tooltje om 470 afbeeldingen per submap uit de 'Train_cleaned_and_augumented' set random te selecteren. Schrijf deze informatie vervolgens weg op je computer (data/moveToThisFolder')\n",
    "\n",
    "In de 'modelGenerator2' notebook ben ik er achter gekomen hoe je op random wijze data kunt aanspreken binnen een lijst door gebruik van een range index. \n",
    "\n",
    "Het nadeel echter, is dat deze selectie tijdelijk wordt opgeslagen en verdwijnt bij het herstarten van de kernel. Iets wat ik niet wil in mijn onderzoek. Ik wil namelijk dezelfde data gebruiken voor verschillende testjes. "
   ]
  },
  {
   "cell_type": "markdown",
   "metadata": {},
   "source": [
    "## Stappenplan en code"
   ]
  },
  {
   "cell_type": "markdown",
   "metadata": {},
   "source": [
    "- Verplaats afbeeldingen naar 'moveToThisFolder' zodat er per klasse 470 afbeeldingen over blijven.\n",
    "- Zorg ervoor dat het een random selectie is. \n",
    "- controleer of dat de sample daarwerkelijk random is door de kijken naar de .nummers van de bestanden."
   ]
  },
  {
   "cell_type": "code",
   "execution_count": 7,
   "metadata": {},
   "outputs": [],
   "source": [
    "source = ''\n",
    "dest = ''\n",
    "files = os.listdir(source)\n",
    "k = 80\n",
    "\n",
    "for file_name in random.sample(files, k):\n",
    "    shutil.[COPY OR MOVE](os.path.join(source, file_name), dest)"
   ]
  },
  {
   "cell_type": "code",
   "execution_count": 3,
   "metadata": {},
   "outputs": [],
   "source": [
    "# Probeer op een later moment bovenstaande code in een functie te zetten. \n",
    "# randomMoveTo([locatie_pad,k(aantal bestanden)]\n",
    "\n",
    "# def moveToFolder(): # hoe bouw je een functie \n",
    "# 'path_source'.moveToFolder(destination, 100) # hiermee roep je de functie aan. \n",
    "  "
   ]
  }
 ],
 "metadata": {
  "kernelspec": {
   "display_name": "Python 3.9.13 ('base')",
   "language": "python",
   "name": "python3"
  },
  "language_info": {
   "codemirror_mode": {
    "name": "ipython",
    "version": 3
   },
   "file_extension": ".py",
   "mimetype": "text/x-python",
   "name": "python",
   "nbconvert_exporter": "python",
   "pygments_lexer": "ipython3",
   "version": "3.9.13"
  },
  "orig_nbformat": 4,
  "vscode": {
   "interpreter": {
    "hash": "4a868478128082cb5ea3f8e684dd7cf0a14a2d1262b4ff6302d99ea6747d278e"
   }
  }
 },
 "nbformat": 4,
 "nbformat_minor": 2
}
