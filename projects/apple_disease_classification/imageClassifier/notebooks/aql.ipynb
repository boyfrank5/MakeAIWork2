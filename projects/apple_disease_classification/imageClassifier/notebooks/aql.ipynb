{
 "cells": [
  {
   "cell_type": "markdown",
   "metadata": {},
   "source": [
    "#### Import libraries:"
   ]
  },
  {
   "cell_type": "code",
   "execution_count": null,
   "metadata": {},
   "outputs": [],
   "source": [
    "import os\n",
    "import cv2\n",
    "import random\n",
    "from random import shuffle, sample\n",
    "import matplotlib\n",
    "import matplotlib.pyplot as plt\n",
    "import numpy as np\n",
    "\n",
    "# from sklearn.metrics import classification_report\n",
    "from sklearn.metrics import confusion_matrix\n",
    "from sklearn.metrics import ConfusionMatrixDisplay\n",
    "\n",
    "import tensorflow as tf\n",
    "from tensorflow.keras.models import load_model\n",
    "from tensorflow.keras.utils import load_img"
   ]
  },
  {
   "cell_type": "markdown",
   "metadata": {},
   "source": [
    "## De opdracht \n",
    "\n",
    "Er zijn meerdere methoden voor het beoordelen van een appel batch. Voor dit project vragen we jullie om een implementatie te maken van het zogenaamde Acceptance Quality Limit (AQL) protocol. Dit protocol is een industriestandaard voor statistische kwaliteitscontroles. Informatie hierover vinden jullie in de projectbijlages (aql_poster.pdf). \n",
    "\n",
    "We hanteren de volgende kwaliteitslabels: \n",
    "\n",
    "Klasse 1: kwaliteit appels is goed genoeg om in supermarkt of bij groenteboer​ te liggen \n",
    "Klasse 2: kwaliteit appels is goed genoeg voor verwerking in appelmoes \n",
    "Klasse 3: kwaliteit appels is goed genoeg voor verwerking in stroop \n",
    "Afgekeurd: kwaliteit is onvoldoende voor bovenstaande toepassingen \n",
    " \n",
    "In termen van het AQL inspectieschema: \n",
    "\n",
    "General Inspection Level: 1 \n",
    "Lot size: een oogst batch bevat tussen de 5.000 en 10.000 appels \n",
    "\n",
    "Klasse 1: AQL kleiner of gelijk aan 0.4 \n",
    "\n",
    "Klasse 2: AQL tussen 0.4 en 2.5 \n",
    "\n",
    "Klasse 3: AQL tussen 2.5 en 6.5 \n",
    "\n",
    "Afgekeurd: AQL groter dan 6.5 \n",
    " \n",
    "Schrijf ook een compact programma dat op basis van de validatie- en test-set van de appels een batch samenstelt, waarop je een inspectie kunt uitvoeren. Genereer bijvoorbeeld een batch met een sample size van 80 appels, waarvan 72 gezond, 4 met blotch, 1 met rot en 3 met scab, en voer dit aan je afwijkingherkenner. Hieruit moet dan het juiste kwaliteitslabel rollen. "
   ]
  },
  {
   "cell_type": "markdown",
   "metadata": {},
   "source": [
    "**Stappenplan:**\n",
    "\n",
    "Batch =  # 80 apples uit de 'use' folder\n",
    "  -> omzetten naar juiste pixelwaarde\n",
    "\n",
    "1. 'Use' directory en 'ModelV2' inladen \n",
    "2. Maak een lijst met daarin een batch van 80 appels (random sample)\n",
    "3. \n",
    "4. \n",
    "\n",
    "voer de batch in het model -> model.predict\n",
    "\n",
    "aql op het de uitkomst van de batch\n",
    "\n"
   ]
  },
  {
   "cell_type": "markdown",
   "metadata": {},
   "source": [
    "### 1. Inladen van het model en de data"
   ]
  },
  {
   "cell_type": "code",
   "execution_count": null,
   "metadata": {},
   "outputs": [],
   "source": [
    "import numpy as np\n",
    "from PIL import Image\n",
    "import tensorflow as tf\n",
    "from tensorflow.keras.utils import load_img, img_to_array \n",
    "from tensorflow.keras.models import load_model\n",
    "import matplotlib.pyplot as plt\n",
    "\n",
    "mobileNetV2 = load_model('../models/mobileNetV2_256px.h5')\n",
    "\n",
    "model = load_model('../models/cleanedAndAugumented_470images_M3_256px.h5')\n",
    "\n",
    "dirBatch01 = '../data/batches/batch01/'\n",
    "dirBatch02 = '../data/batches/batch02/'\n",
    "dirBatch03 = '../data/batches/batch03/'\n",
    "\n",
    "batches = [dirBatch01, dirBatch02, dirBatch03]\n",
    "\n",
    "txtFiles = list()\n",
    "foto_path = list()\n",
    "\n",
    "predBatches=[[],[],[]]\n",
    "\n",
    "tel=0\n",
    "\n",
    "for i in batches:\n",
    "  txtFile = os.path.join(i)\n",
    "  txtFiles.append(txtFile) \n",
    "  foto_path.append(os.listdir(i))\n",
    "\n",
    "  for filename in os.listdir(i):\n",
    "    txtFile = os.path.join(i, filename)\n",
    "    x = img_to_array(Image.open(txtFile)).astype('uint8')\n",
    "    y = np.stack([x], axis=0)\n",
    "    print(x)\n",
    "    \n",
    "    predictions=mobileNetV2.predict([y])\n",
    "    appletypenr = np.argmax(predictions)\n",
    "    predBatches[tel].append(appletypenr)\n",
    "  tel+=1\n",
    "  \n",
    "print(predBatches)\n"
   ]
  },
  {
   "cell_type": "code",
   "execution_count": null,
   "metadata": {},
   "outputs": [],
   "source": [
    "predBatch01 = (predBatches[0])\n",
    "predBatch02 = (predBatches[1])\n",
    "predBatch03 = (predBatches[2])"
   ]
  },
  {
   "cell_type": "code",
   "execution_count": null,
   "metadata": {},
   "outputs": [],
   "source": [
    "# batch01Blotch = (predBatch01[0])\n",
    "# batch01Normal = (statsBatch01[1])\n",
    "# batch01Rot = (statsBatch01[2])\n",
    "# batch01Scab = (statsBatch01[3])"
   ]
  }
 ],
 "metadata": {
  "kernelspec": {
   "display_name": "Python 3.10.8 ('nlp')",
   "language": "python",
   "name": "python3"
  },
  "language_info": {
   "codemirror_mode": {
    "name": "ipython",
    "version": 3
   },
   "file_extension": ".py",
   "mimetype": "text/x-python",
   "name": "python",
   "nbconvert_exporter": "python",
   "pygments_lexer": "ipython3",
   "version": "3.10.8"
  },
  "orig_nbformat": 4,
  "vscode": {
   "interpreter": {
    "hash": "08dcd7b465d662d455112702df3945fb76eb8b6c054b50adde9f3b27fa63f4f4"
   }
  }
 },
 "nbformat": 4,
 "nbformat_minor": 2
}
