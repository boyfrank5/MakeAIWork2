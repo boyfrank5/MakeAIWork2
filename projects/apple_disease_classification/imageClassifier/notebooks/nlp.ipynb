{
 "cells": [
  {
   "cell_type": "markdown",
   "metadata": {},
   "source": [
    "#### Import libraries:"
   ]
  },
  {
   "cell_type": "code",
   "execution_count": null,
   "metadata": {},
   "outputs": [],
   "source": [
    "from sentence_transformers import SentenceTransformer, util"
   ]
  },
  {
   "cell_type": "markdown",
   "metadata": {},
   "source": [
    "## Input AQL paramaters:"
   ]
  },
  {
   "cell_type": "code",
   "execution_count": null,
   "metadata": {},
   "outputs": [],
   "source": []
  },
  {
   "cell_type": "code",
   "execution_count": null,
   "metadata": {},
   "outputs": [],
   "source": [
    "batchOneAql = 'class1'\n",
    "batchOneNormal = 80\n",
    "batchOneRot = 0\n",
    "batchOneScab = 0\n",
    "batchOneBlotch = 0\n",
    "\n",
    "batchTwoAql = 'class2'\n",
    "batchTwoNormal = 60\n",
    "batchTwoRot = 5\n",
    "batchTwoScab = 15\n",
    "batchTwoBlotch = 10"
   ]
  },
  {
   "cell_type": "markdown",
   "metadata": {},
   "source": [
    "# Natural Language Programming"
   ]
  },
  {
   "cell_type": "markdown",
   "metadata": {},
   "source": [
    "## De 'input' zinnen en het model"
   ]
  },
  {
   "cell_type": "code",
   "execution_count": null,
   "metadata": {},
   "outputs": [],
   "source": [
    "model = SentenceTransformer('all-MiniLM-L6-v2')\n",
    "\n",
    "# De antwoorden te de chatbot returned:\n",
    "sentences = [(f'The quality of the batch is: {batchOneAql}.'),\n",
    "             (f'The amount of normal apples in batch one: {batchOneNormal}.'),\n",
    "             (f'The amount of rotten apples in batch one: {batchOneRot}.'),\n",
    "             (f'The amount of scab apples in batch one: {batchOneScab}.'),\n",
    "             (f'The amount of blotch apples in batch one: {batchOneBlotch}.'),\n",
    "\n",
    "             (f'Hello, what would you like to know?'),\n",
    "             (f'80 apples are inspected for the AQL test.'),\n",
    "             (f'We use a batch size of eighty apples for the AQL process!'),\n",
    "             (f'Here you will find a great apple pie recipe: www.omasappeltaart.nl.')\n",
    "             ]\n",
    "\n",
    "#Encode all sentences\n",
    "embeddings = model.encode(sentences)\n",
    "\n",
    "#Compute cosine similarity between all pairs\n",
    "cos_sim = util.cos_sim(embeddings, embeddings)\n",
    "\n",
    "#Add all pairs to a list with their cosine similarity score\n",
    "all_sentence_combinations = []\n",
    "for i in range(len(cos_sim)-1):\n",
    "    for j in range(i+1, len(cos_sim)):\n",
    "        all_sentence_combinations.append([cos_sim[i][j], i, j])\n",
    "\n",
    "#Sort list by the highest cosine similarity score\n",
    "all_sentence_combinations = sorted(all_sentence_combinations, key=lambda x: x[0], reverse=True)\n",
    "\n",
    "# print(\"Top-5 most similar pairs:\")\n",
    "\n",
    "# for score, i, j in all_sentence_combinations[0:5]:\n",
    "#     print(\"{} \\t {} \\t {:.4f}\".format(sentences[i], sentences[j], cos_sim[i][j]))"
   ]
  },
  {
   "cell_type": "markdown",
   "metadata": {},
   "source": [
    "## De chatbot"
   ]
  },
  {
   "cell_type": "code",
   "execution_count": null,
   "metadata": {},
   "outputs": [],
   "source": [
    "print('Hello, how can I help?')\n",
    "\n",
    "i=0\n",
    "\n",
    "while i < 5:\n",
    "  questionChatbot = input()\n",
    "\n",
    "  theQuestion = model.encode(questionChatbot, convert_to_tensor=True)\n",
    "  print(f'\\t{questionChatbot}')\n",
    "  answerArray = util.dot_score(theQuestion, embeddings)\n",
    "  # print(\"Similarity:\", util.dot_score(theQuestion, embeddings))\n",
    "  answerlocation = (answerArray.argmax())\n",
    "  print(sentences[answerlocation.item()])\n",
    "  i += 1\n",
    "\n",
    "print('\\nHave a nice day!')"
   ]
  }
 ],
 "metadata": {
  "kernelspec": {
   "display_name": "Python 3.10.8 ('nlp')",
   "language": "python",
   "name": "python3"
  },
  "language_info": {
   "codemirror_mode": {
    "name": "ipython",
    "version": 3
   },
   "file_extension": ".py",
   "mimetype": "text/x-python",
   "name": "python",
   "nbconvert_exporter": "python",
   "pygments_lexer": "ipython3",
   "version": "3.10.8"
  },
  "orig_nbformat": 4,
  "vscode": {
   "interpreter": {
    "hash": "08dcd7b465d662d455112702df3945fb76eb8b6c054b50adde9f3b27fa63f4f4"
   }
  }
 },
 "nbformat": 4,
 "nbformat_minor": 2
}
