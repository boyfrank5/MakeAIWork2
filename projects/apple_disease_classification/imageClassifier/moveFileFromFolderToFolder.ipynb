{
 "cells": [
  {
   "cell_type": "markdown",
   "metadata": {},
   "source": [
    "**Maak een tooltje om 470 afbeeldingen per submap uit de 'Train_cleaned_and_augumented' set random te selecteren. Schrijf deze informatie vervolgens weg op je computer**\n",
    "\n",
    "In de 'modelGenerator2' notebook ben ik er achter gekomen hoe je op random wijze data kunt aanspreken binnen een lijst door gebruik van een range index. \n",
    "\n",
    "Het nadeel echter, is dat deze selectie tijdelijk wordt opgeslagen en verdwijnt bij het herstarten van de kernel. Iets wat ik niet wil in mijn onderzoek. Ik wil namelijk dezelfde data gebruiken voor verschillende testjes. "
   ]
  },
  {
   "cell_type": "code",
   "execution_count": 2,
   "metadata": {},
   "outputs": [],
   "source": [
    "import os\n",
    "import random\n",
    "import shutil"
   ]
  },
  {
   "cell_type": "markdown",
   "metadata": {},
   "source": [
    "# Random verplaatsen van data naar een nieuwe locatie."
   ]
  },
  {
   "cell_type": "markdown",
   "metadata": {},
   "source": [
    "- Verplaats afbeeldingen naar 'moveToThisFolder' zodat er per klasse 470 afbeeldingen over blijven.\n",
    "- Zorg ervoor dat het een random selectie is. \n",
    "- controleer of dat de sample daarwerkelijk random is door de kijken naar de .nummers van de bestanden.\n",
    "\n"
   ]
  },
  {
   "cell_type": "code",
   "execution_count": 4,
   "metadata": {},
   "outputs": [],
   "source": [
    "source = '/Users/boyfrankclaesen/workspace/makeAIWork2/projects/apple_disease_classification/imageClassifier/data/Train_cleaned_and_augumented_470/Scab_Apple'\n",
    "dest = '/Users/boyfrankclaesen/workspace/makeAIWork2/projects/apple_disease_classification/imageClassifier/data/moveToThisFolder'\n",
    "files = os.listdir(source)\n",
    "k = 207\n",
    "\n",
    "for file_name in random.sample(files, k):\n",
    "    shutil.move(os.path.join(source, file_name), dest)"
   ]
  },
  {
   "cell_type": "code",
   "execution_count": null,
   "metadata": {},
   "outputs": [],
   "source": [
    "# probeer op een later moment bovenstaande code in een functie te zetten. \n",
    "# randomMoveTo([locatie_pad,k(aantal bestanden)]\n",
    "\n",
    "# import os\n",
    "# import random\n",
    "# import shutil\n",
    "\n",
    "# def moveToFolder(): # hoe bouw je een functie \n",
    "  \n",
    "\n",
    "# source.moveToFolder(destination, 100) # hiermee roep je de functie aan. \n",
    "  "
   ]
  },
  {
   "cell_type": "code",
   "execution_count": null,
   "metadata": {},
   "outputs": [],
   "source": [
    "\n",
    "  \n"
   ]
  }
 ],
 "metadata": {
  "kernelspec": {
   "display_name": "Python 3.10.6 64-bit",
   "language": "python",
   "name": "python3"
  },
  "language_info": {
   "codemirror_mode": {
    "name": "ipython",
    "version": 3
   },
   "file_extension": ".py",
   "mimetype": "text/x-python",
   "name": "python",
   "nbconvert_exporter": "python",
   "pygments_lexer": "ipython3",
   "version": "3.10.6"
  },
  "orig_nbformat": 4,
  "vscode": {
   "interpreter": {
    "hash": "aee8b7b246df8f9039afb4144a1f6fd8d2ca17a180786b69acc140d282b71a49"
   }
  }
 },
 "nbformat": 4,
 "nbformat_minor": 2
}
