{
 "cells": [
  {
   "cell_type": "code",
   "execution_count": null,
   "metadata": {
    "colab": {
     "base_uri": "https://localhost:8080/"
    },
    "executionInfo": {
     "elapsed": 7930,
     "status": "ok",
     "timestamp": 1665995257208,
     "user": {
      "displayName": "Frank Smitskamp",
      "userId": "16279035265695218862"
     },
     "user_tz": -120
    },
    "id": "sZ1A_bCNnXm_",
    "outputId": "f113e693-a6a2-4a66-b6e9-8d00b77538cd"
   },
   "outputs": [],
   "source": [
    "# load vgg model\n",
    "from keras.applications import vgg16\n",
    "# load the model\n",
    "model = vgg16.VGG16()\n",
    "# summarize the model\n",
    "model.summary()"
   ]
  },
  {
   "cell_type": "code",
   "execution_count": null,
   "metadata": {
    "colab": {
     "base_uri": "https://localhost:8080/"
    },
    "executionInfo": {
     "elapsed": 447,
     "status": "ok",
     "timestamp": 1665995265566,
     "user": {
      "displayName": "Frank Smitskamp",
      "userId": "16279035265695218862"
     },
     "user_tz": -120
    },
    "id": "waqLDNSyndlo",
    "outputId": "7d5e3ef6-93e0-4883-9278-97b3b0873c92"
   },
   "outputs": [],
   "source": [
    "# summarize filters in each convolutional layer\n",
    "from matplotlib import pyplot\n",
    "# summarize filter shapes\n",
    "for layer in model.layers:\n",
    "\t# check for convolutional layer\n",
    "\tif 'conv' not in layer.name:\n",
    "\t\tcontinue\n",
    "\t# get filter weights\n",
    "\tfilters, biases = layer.get_weights()\n",
    "\tprint(layer.name, filters.shape)"
   ]
  },
  {
   "cell_type": "code",
   "execution_count": null,
   "metadata": {
    "colab": {
     "base_uri": "https://localhost:8080/",
     "height": 252
    },
    "executionInfo": {
     "elapsed": 748,
     "status": "ok",
     "timestamp": 1665995788707,
     "user": {
      "displayName": "Frank Smitskamp",
      "userId": "16279035265695218862"
     },
     "user_tz": -120
    },
    "id": "oyI6P9ofnyww",
    "outputId": "4cd07473-c3ef-4744-ece4-6f54364f8dee"
   },
   "outputs": [],
   "source": [
    "from keras.applications.vgg16 import VGG16\n",
    "from matplotlib import pyplot\n",
    "# retrieve weights from the second hidden layer\n",
    "filters, biases = model.layers[1].get_weights()\n",
    "# normalize filter values to 0-1 so we can visualize them\n",
    "f_min, f_max = filters.min(), filters.max()\n",
    "filters = (filters - f_min) / (f_max - f_min)\n",
    "# plot first few filters\n",
    "n_filters, ix = 6, 1\n",
    "for i in range(n_filters):\n",
    "\t# get the filter\n",
    "\tf = filters[:, :, :, i]\n",
    "\t# plot each channel separately\n",
    "\tfor j in range(3):\n",
    "\t\t# specify subplot and turn of axis\n",
    "\t\tax = pyplot.subplot(n_filters, 3, ix)\n",
    "\t\tax.set_xticks([])\n",
    "\t\tax.set_yticks([])\n",
    "\t\t# plot filter channel in grayscale\n",
    "\t\tpyplot.imshow(f[:, :, j], cmap='gray')\n",
    "\t\tix += 1\n",
    "# show the figure\n",
    "pyplot.show()"
   ]
  },
  {
   "cell_type": "code",
   "execution_count": null,
   "metadata": {
    "colab": {
     "base_uri": "https://localhost:8080/",
     "height": 1000
    },
    "executionInfo": {
     "elapsed": 13603,
     "status": "ok",
     "timestamp": 1665998146023,
     "user": {
      "displayName": "Frank Smitskamp",
      "userId": "16279035265695218862"
     },
     "user_tz": -120
    },
    "id": "DzUjTKIWogKA",
    "outputId": "8cb83fd9-cc3e-4c38-ea3b-8fe64c11b2ec"
   },
   "outputs": [],
   "source": [
    "\n",
    "# visualize feature maps output from each block in the vgg model\n",
    "from keras.applications.vgg16 import VGG16\n",
    "\n",
    "from tensorflow.keras.utils import load_img\n",
    "from tensorflow.keras.utils import img_to_array \n",
    "\n",
    "# from keras.utils import load_img\n",
    "# from keras.utils import img_to_array\n",
    "\n",
    "from keras.models import Model\n",
    "from matplotlib import pyplot\n",
    "from numpy import expand_dims\n",
    "# load the model\n",
    "model = VGG16()\n",
    "# redefine model to output right after the first hidden layer\n",
    "ixs = [2, 5, 9, 13, 17]\n",
    "\n",
    "outputs = [model.layers[i].output for i in ixs]\n",
    "model = Model(inputs=model.inputs, outputs=outputs)\n",
    "\n",
    "# load the image with the required shape\n",
    "img = load_img('draak.webp', target_size=(224, 224))\n",
    "\n",
    "# convert the image to an array\n",
    "img = img_to_array(img)\n",
    "\n",
    "# expand dimensions so that it represents a single 'sample'\n",
    "img = expand_dims(img, axis=0)\n",
    "\n",
    "# prepare the image (e.g. scale pixel values for the vgg)\n",
    "#img = preprocess_input(img)\n",
    "# get feature map for first hidden layer\n",
    "feature_maps = model.predict(img)\n",
    "\n",
    "\n",
    "# plot the output from each block\n",
    "square = 8\n",
    "\n",
    "for fmap in feature_maps:\n",
    "\t# plot all 64 maps in an 8x8 squares\n",
    "\tix = 1\n",
    "\tfor _ in range(square):\n",
    "\t\tfor _ in range(square):\n",
    "\t\t\t# specify subplot and turn of axis\n",
    "\t\t\tax = pyplot.subplot(square, square, ix)\n",
    "\t\t\tax.set_xticks([])\n",
    "\t\t\tax.set_yticks([])\n",
    "\t\t\t# plot filter channel in grayscale\n",
    "\t\t\tpyplot.imshow(fmap[0, :, :, ix-1], cmap='gray')\n",
    "\t\t\tix += 1\n",
    "\t# show the figure\n",
    "\t# pyplot.show()"
   ]
  },
  {
   "cell_type": "code",
   "execution_count": null,
   "metadata": {},
   "outputs": [],
   "source": [
    "# Print prediction \n",
    "from keras.applications import vgg16\n",
    "model = vgg16.VGG16()\n",
    "predict_img = model.predict(img)\n",
    "predict_img"
   ]
  },
  {
   "cell_type": "code",
   "execution_count": null,
   "metadata": {},
   "outputs": [],
   "source": [
    "#Let's predict top 5 results\n",
    "top_five_predict = vgg16.decode_predictions(predict_img, top=5)\n",
    "top_five_predict"
   ]
  },
  {
   "cell_type": "code",
   "execution_count": null,
   "metadata": {},
   "outputs": [],
   "source": []
  }
 ],
 "metadata": {
  "colab": {
   "authorship_tag": "ABX9TyMTYnaROJhtjfzGxkKgaKZx",
   "provenance": []
  },
  "kernelspec": {
   "display_name": "Python 3 (ipykernel)",
   "language": "python",
   "name": "python3"
  },
  "language_info": {
   "codemirror_mode": {
    "name": "ipython",
    "version": 3
   },
   "file_extension": ".py",
   "mimetype": "text/x-python",
   "name": "python",
   "nbconvert_exporter": "python",
   "pygments_lexer": "ipython3",
   "version": "3.9.13"
  }
 },
 "nbformat": 4,
 "nbformat_minor": 4
}
