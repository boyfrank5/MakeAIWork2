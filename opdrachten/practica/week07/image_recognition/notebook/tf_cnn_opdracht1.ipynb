{
 "cells": [
  {
   "cell_type": "markdown",
   "id": "818a1af7-9708-4bae-92fe-fa36b678d2be",
   "metadata": {},
   "source": [
    "<a href=\"https://it-omscholing.nl/locaties/hogeschool-rotterdam/\">\n",
    "<div>\n",
    "<a><img src='pics/banner.PNG'/></a>\n",
    "</div>\n",
    "<div>\n",
    "<a href=''><img src='pics/miw.PNG'/></a>\n",
    "<em>Author: Jeroen Boogaard</em>\n",
    "</div>\n",
    "</a>"
   ]
  },
  {
   "cell_type": "markdown",
   "id": "a9ff9227-1da2-489e-a4b4-d661d44ce68f",
   "metadata": {
    "tags": []
   },
   "source": [
    "<h1>Practicum Computer Vision</h1>"
   ]
  },
  {
   "cell_type": "markdown",
   "id": "7d395107",
   "metadata": {},
   "source": [
    "<h2>Imports<h2>"
   ]
  },
  {
   "cell_type": "code",
   "execution_count": null,
   "id": "84d02a33",
   "metadata": {},
   "outputs": [],
   "source": [
    "from PIL import Image\n",
    "import io\n",
    "import matplotlib.pyplot as plt\n",
    "import matplotlib.image as mpimg\n",
    "import numpy as np\n",
    "import os\n",
    "from sklearn.model_selection import train_test_split\n",
    "import random\n",
    "import requests\n",
    "import tensorflow as tf\n",
    "import tensorflow.keras as keras\n",
    "from tensorflow.keras import datasets, layers, models\n",
    "import zipfile"
   ]
  },
  {
   "cell_type": "code",
   "execution_count": null,
   "id": "3b9f9ee3",
   "metadata": {},
   "outputs": [],
   "source": []
  },
  {
   "cell_type": "markdown",
   "id": "72042f70-16c5-4a1a-a753-fc468bbe1a6a",
   "metadata": {},
   "source": [
    "**Gebruik een <i>environment variable</i> voor het instellen van het logleven van TensorFlow**"
   ]
  },
  {
   "cell_type": "code",
   "execution_count": null,
   "id": "86e675b9-244c-45c8-9c91-79146b304a02",
   "metadata": {},
   "outputs": [],
   "source": [
    "os.environ['TF_CPP_MIN_LEVEL'] = '2'"
   ]
  },
  {
   "cell_type": "markdown",
   "id": "51aae3d0-f644-4552-870c-029b41f24559",
   "metadata": {},
   "source": [
    "<h2>Data Collection</h2>"
   ]
  },
  {
   "cell_type": "markdown",
   "id": "170099a3-4baf-4d2b-9ee2-ba934e368432",
   "metadata": {},
   "source": [
    "<h3>Data downloaden</h3>"
   ]
  },
  {
   "cell_type": "code",
   "execution_count": null,
   "id": "57eb7d80-bfc1-4774-a635-fc28b2742aa0",
   "metadata": {},
   "outputs": [],
   "source": [
    "dataUrl = requests.get(\"http://madm.dfki.de/files/sentinel/EuroSAT.zip\") # foto's verdeeld over 10 klassen.\n",
    "dataFile = zipfile.ZipFile(io.BytesIO(dataUrl.content))"
   ]
  },
  {
   "cell_type": "code",
   "execution_count": null,
   "id": "c652271d-7f13-493e-a14e-d70a21e2de39",
   "metadata": {},
   "outputs": [],
   "source": [
    "# get file names\n",
    "txtFiles = list() # lijst wordt aangemaakt\n",
    "# print(txtFiles)\n",
    "\n",
    "for textFile in dataFile.namelist():\n",
    "    txtFiles.append(textFile)\n",
    "    # print(txtFile)\n",
    "\n",
    "# print(txtFiles)\n",
    "# print(textFile) # zal de laaste geschreven zijn. in dit geval crop_736 \n",
    "# print(txtFile)\n",
    "# print(txtFiles[6777])"
   ]
  },
  {
   "cell_type": "markdown",
   "id": "c878858c-a5c8-4c52-b093-13b46ae78b7d",
   "metadata": {},
   "source": [
    "<h3>Data filteren</h3>"
   ]
  },
  {
   "cell_type": "code",
   "execution_count": null,
   "id": "984a8cee-ab24-4880-af6c-168f7de17a9c",
   "metadata": {},
   "outputs": [],
   "source": [
    "txtFiles = [x for x in txtFiles if \".jpg\" in x] # manier op de .jpg te scheiden van de andere bestandtypes. \n"
   ]
  },
  {
   "cell_type": "markdown",
   "id": "ddfc7256-6b34-42c4-a97b-3f151a8ed0fa",
   "metadata": {},
   "source": [
    "<h3>Data inlezen</h3>"
   ]
  },
  {
   "cell_type": "code",
   "execution_count": null,
   "id": "eef4608d-3ea2-4e55-9b1f-d0d9906447b4",
   "metadata": {},
   "outputs": [],
   "source": [
    "imageObjects = np.zeros([len(txtFiles), 64, 64, 3]) \n",
    "# aanmaken van lege array van 64x64x3 pixels/datatype. (aantal arrays is 'len' van 'tekstfiles'.)\n",
    "\n",
    "i = 0\n",
    "\n",
    "for pic in txtFiles:\n",
    "  imageObjects[i] = np.asarray(Image.open(dataFile.open(pic))).astype('uint8')/255\n",
    "  i += 1\n",
    "# hier wordt de afbeelding (genormaliseerd) in de array gezet. Uitkomst -> afbeelding in de matrixvorm genormaliseerd tussen 0 en 1. \n",
    "\n",
    "print(imageObjects[0])    "
   ]
  },
  {
   "cell_type": "markdown",
   "id": "abc16b74-8f84-4256-9012-1e05669f1f54",
   "metadata": {},
   "source": [
    "**Gebruik de bestandsnamen voor het verkrijgen van de labels**"
   ]
  },
  {
   "cell_type": "code",
   "execution_count": null,
   "id": "d7fb9377-3287-4aca-8539-9d564c3bd5c9",
   "metadata": {},
   "outputs": [],
   "source": [
    "imageLabels = np.empty(len(txtFiles), dtype = 'S20')\n",
    "# aanmaken van lege arrays. Net zoveel als de 'len' van txtFiles'\n",
    "\n",
    "i = 0\n",
    "\n",
    "for label in txtFiles:    #label wordt gecreeerd '/' te splitten van txtFiles.\n",
    "    txtFiles[i] = label.split('/')[1]\n",
    "    i += 1\n",
    "\n",
    "print(label[1])\n",
    "print(txtFiles[7000]) \n"
   ]
  },
  {
   "cell_type": "code",
   "execution_count": null,
   "id": "6c6fdb90-bf3a-4569-a475-2e94b0c5bdd8",
   "metadata": {},
   "outputs": [],
   "source": [
    "# change them to integers in alphabetical order\n",
    "labelNames, labelNumbers = np.unique(txtFiles, return_inverse=True)\n",
    "labelDict = dict(zip(np.unique(labelNumbers), labelNames))\n",
    "print(labelNames)\n",
    "print(labelNumbers)\n",
    "\n",
    "np.array(np.unique(labelNumbers, return_counts=True)).T"
   ]
  },
  {
   "cell_type": "markdown",
   "id": "9af14b2c-47b2-4256-9f22-715218d60b74",
   "metadata": {},
   "source": [
    "<h3>Data splitten</h3>"
   ]
  },
  {
   "cell_type": "code",
   "execution_count": null,
   "id": "ef3d2e75-c904-44f7-b764-618226c22dae",
   "metadata": {},
   "outputs": [],
   "source": [
    "trainSet, testSet, trainLabels, testLabels = train_test_split(imageObjects, labelNumbers, stratify = labelNumbers, train_size = 0.75, random_state=42)\n",
    "print(trainSet.shape)\n",
    "nrOfImages = len(trainSet)"
   ]
  },
  {
   "cell_type": "markdown",
   "id": "11669120-c3b7-4d62-8e61-e3858002d973",
   "metadata": {},
   "source": [
    "<h3>Data inspecteren</h3>"
   ]
  },
  {
   "cell_type": "code",
   "execution_count": null,
   "id": "c5e3ce52-c40f-4225-8925-4f56df9b2cb5",
   "metadata": {},
   "outputs": [],
   "source": [
    "def inspectData():\n",
    "    \n",
    "    plt.figure(figsize=(10,10))\n",
    "    \n",
    "    for i in range(16):\n",
    "        plt.subplot(4, 4, i+1)\n",
    "        plt.xticks([])\n",
    "        plt.yticks([])\n",
    "        plt.grid(False)\n",
    "        number = i\n",
    "        plt.imshow(trainSet[number])\n",
    "        plt.xlabel(labelNames[trainLabels[number]]) \n",
    "    \n",
    "    plt.show()"
   ]
  },
  {
   "cell_type": "code",
   "execution_count": null,
   "id": "4618bb10-dbf4-4167-afd8-581c4e10f613",
   "metadata": {},
   "outputs": [],
   "source": [
    "inspectData()    "
   ]
  },
  {
   "cell_type": "markdown",
   "id": "42d48666-b003-4d6a-a0e6-3e935ac3b2b0",
   "metadata": {},
   "source": [
    "<h2>Maak een model</h2>"
   ]
  },
  {
   "cell_type": "markdown",
   "id": "6fdfd7bb-8e13-4ccd-ac89-de74b66a699f",
   "metadata": {},
   "source": [
    "<h3>Definieer de netwerktopologie</h3>"
   ]
  },
  {
   "cell_type": "code",
   "execution_count": null,
   "id": "b1424490-7616-49ed-9059-f920aa6f36ba",
   "metadata": {},
   "outputs": [],
   "source": [
    "class_names = labelNames"
   ]
  },
  {
   "cell_type": "code",
   "execution_count": null,
   "id": "23bff1e2-8e30-4e01-b304-d96ff14b27a8",
   "metadata": {},
   "outputs": [],
   "source": [
    "num_classes = len(labelNames)\n",
    "\n",
    "model = models.Sequential()\n",
    "\n",
    "model.add(layers.Conv2D(64, (3, 3), padding='same', activation='relu', input_shape=(64, 64, 3)))\n",
    "model.add(layers.MaxPooling2D((2, 2)))\n",
    "model.add(layers.Conv2D(64, (3, 3), padding='same', activation='relu'))\n",
    "model.add(layers.MaxPooling2D((2, 2)))\n",
    "model.add(layers.Conv2D(64, (3, 3), padding='same', activation='relu'))\n",
    "model.add(layers.MaxPooling2D((2,2)))\n",
    "model.add(layers.Flatten())\n",
    "model.add(layers.Dense(128, activation='relu'))\n",
    "model.add(layers.Dense(num_classes))\n",
    "\n",
    "model.summary()\n",
    "\n",
    "\n"
   ]
  },
  {
   "cell_type": "markdown",
   "id": "d950cdba-ba82-4025-8644-8cb2eae14f48",
   "metadata": {},
   "source": [
    "<h3>Exercise 1</h3>\n",
    "<p>\n",
    "    Vul de netwerktopologie tot een bruikbaar Neural Netwerk onstaat.\n",
    "</p>"
   ]
  },
  {
   "cell_type": "markdown",
   "id": "378fefb6-5622-4322-a178-6f7e6a7153aa",
   "metadata": {},
   "source": [
    "<h3>Definieer de trainparameters</h3>"
   ]
  },
  {
   "cell_type": "code",
   "execution_count": null,
   "id": "66f6e049-28cc-4192-94be-316166183a44",
   "metadata": {},
   "outputs": [],
   "source": [
    "lossFunction = keras.losses.SparseCategoricalCrossentropy(from_logits=True)\n",
    "gdAlgorithm = keras.optimizers.Adam(learning_rate=0.001)\n",
    "nrOfEpochs = 5"
   ]
  },
  {
   "cell_type": "markdown",
   "id": "a68273b3-aa36-42d7-b883-1e0d7b89f21b",
   "metadata": {},
   "source": [
    "<h3>Train het model</h3>"
   ]
  },
  {
   "cell_type": "code",
   "execution_count": null,
   "id": "a3295916-8bbe-4d40-a30a-71e90669cb2a",
   "metadata": {},
   "outputs": [],
   "source": [
    "model.compile(optimizer=gdAlgorithm, loss=lossFunction, metrics=\"accuracy\")\n",
    "history = model.fit(trainSet, trainLabels, epochs=nrOfEpochs, batch_size=64, verbose=2)\n"
   ]
  },
  {
   "cell_type": "code",
   "execution_count": null,
   "id": "d76bf1fa-292f-447d-a487-1e085cdcb34c",
   "metadata": {},
   "outputs": [],
   "source": [
    "# model.save('/Users/boyfrankclaesen/workspace/makeAIWork2/opdrachten/practica/week07/cnn_trained')"
   ]
  },
  {
   "cell_type": "markdown",
   "id": "8f22414f-dd7e-408a-8834-b362bda15468",
   "metadata": {},
   "source": [
    "<h3>Test het model</h3>"
   ]
  },
  {
   "cell_type": "markdown",
   "id": "f566e5c6-6a10-452a-bfdc-64b27963f1c4",
   "metadata": {},
   "source": [
    "<h3>Exercise 2</h3>\n",
    "<p>\n",
    "    Test het Neural Netwerk met de testset en laat zien of het in staat is de juiste class te vinden.\n",
    "</p>"
   ]
  },
  {
   "cell_type": "code",
   "execution_count": null,
   "id": "e6bf8bed-bcda-4b73-b16c-4b492c6ae99a",
   "metadata": {},
   "outputs": [],
   "source": [
    "# validationPicture_path = ('makeAIWork2/opdrachten/practica/week07/Highway_1886.jpg')\n"
   ]
  },
  {
   "cell_type": "code",
   "execution_count": null,
   "id": "a89864e4-6695-4950-bcdf-6cc56a2562a9",
   "metadata": {},
   "outputs": [],
   "source": [
    "valPictureArray = (imageObjects[1886])\n",
    "\n",
    "print(valPictureArray)\n",
    "\n"
   ]
  },
  {
   "cell_type": "code",
   "execution_count": null,
   "id": "278627e9-2ae7-4643-92a8-4f19b773ab1b",
   "metadata": {},
   "outputs": [],
   "source": []
  }
 ],
 "metadata": {
  "kernelspec": {
   "display_name": "Python 3 (ipykernel)",
   "language": "python",
   "name": "python3"
  },
  "language_info": {
   "codemirror_mode": {
    "name": "ipython",
    "version": 3
   },
   "file_extension": ".py",
   "mimetype": "text/x-python",
   "name": "python",
   "nbconvert_exporter": "python",
   "pygments_lexer": "ipython3",
   "version": "3.9.13"
  },
  "vscode": {
   "interpreter": {
    "hash": "aee8b7b246df8f9039afb4144a1f6fd8d2ca17a180786b69acc140d282b71a49"
   }
  }
 },
 "nbformat": 4,
 "nbformat_minor": 5
}
