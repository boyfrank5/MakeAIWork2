{
 "cells": [
  {
   "cell_type": "markdown",
   "id": "818a1af7-9708-4bae-92fe-fa36b678d2be",
   "metadata": {},
   "source": [
    "<a href=\"https://it-omscholing.nl/locaties/hogeschool-rotterdam/\">\n",
    "<div>\n",
    "<a><img src='pics/banner.PNG'/></a>\n",
    "</div>\n",
    "<div>\n",
    "<a href=''><img src='pics/miw.PNG'/></a>\n",
    "<em>Author: Jeroen Boogaard</em>\n",
    "</div>\n",
    "</a>"
   ]
  },
  {
   "cell_type": "markdown",
   "id": "a9ff9227-1da2-489e-a4b4-d661d44ce68f",
   "metadata": {
    "tags": []
   },
   "source": [
    "<h1>Practicum Computer Vision</h1>"
   ]
  },
  {
   "cell_type": "markdown",
   "id": "7d395107",
   "metadata": {},
   "source": [
    "<h2>Imports<h2>"
   ]
  },
  {
   "cell_type": "code",
   "execution_count": null,
   "id": "84d02a33",
   "metadata": {},
   "outputs": [],
   "source": [
    "from PIL import Image\n",
    "import io\n",
    "import matplotlib.pyplot as plt\n",
    "import matplotlib.image as mpimg\n",
    "import numpy as np\n",
    "import os\n",
    "from sklearn.model_selection import train_test_split\n",
    "from sklearn import metrics\n",
    "import random\n",
    "import requests\n",
    "import tensorflow as tf\n",
    "import tensorflow.keras as keras\n",
    "from tensorflow.keras import datasets, layers, models\n",
    "import zipfile\n",
    "\n",
    "from tensorflow.keras.utils import load_img\n",
    "from tensorflow.keras.utils import img_to_array \n",
    "from numpy import expand_dims\n",
    "from keras.models import Model\n",
    "\n",
    "\n",
    "\n"
   ]
  },
  {
   "cell_type": "code",
   "execution_count": null,
   "id": "3b9f9ee3",
   "metadata": {},
   "outputs": [],
   "source": []
  },
  {
   "cell_type": "markdown",
   "id": "72042f70-16c5-4a1a-a753-fc468bbe1a6a",
   "metadata": {},
   "source": [
    "**Gebruik een <i>environment variable</i> voor het instellen van het logleven van TensorFlow**"
   ]
  },
  {
   "cell_type": "code",
   "execution_count": null,
   "id": "86e675b9-244c-45c8-9c91-79146b304a02",
   "metadata": {},
   "outputs": [],
   "source": [
    "os.environ['TF_CPP_MIN_LEVEL'] = '2'"
   ]
  },
  {
   "cell_type": "markdown",
   "id": "51aae3d0-f644-4552-870c-029b41f24559",
   "metadata": {},
   "source": [
    "<h2>Data Collection</h2>"
   ]
  },
  {
   "cell_type": "markdown",
   "id": "170099a3-4baf-4d2b-9ee2-ba934e368432",
   "metadata": {},
   "source": [
    "<h3>Data downloaden</h3>"
   ]
  },
  {
   "cell_type": "code",
   "execution_count": null,
   "id": "3b9a32cf-d271-47f8-a6bd-9c7a6c96b855",
   "metadata": {},
   "outputs": [],
   "source": [
    "txtFiles = list()"
   ]
  },
  {
   "cell_type": "code",
   "execution_count": null,
   "id": "57eb7d80-bfc1-4774-a635-fc28b2742aa0",
   "metadata": {},
   "outputs": [],
   "source": [
    "# dataUrl = requests.get(\"http://madm.dfki.de/files/sentinel/EuroSAT.zip\") # foto's verdeeld over 10 klassen.\n",
    "# dataFile = zipfile.ZipFile(io.BytesIO(dataUrl.content))\n",
    "\n",
    "riverDirectory = 'pics/2750/River'\n",
    " \n",
    "for filename in os.listdir(riverDirectory):\n",
    "    txtFile = os.path.join(riverDirectory, filename)\n",
    "    txtFiles.append(txtFile) # Append is een functie van lijsten en werkt niet bij\n",
    "    # print(txtFile)\n"
   ]
  },
  {
   "cell_type": "code",
   "execution_count": null,
   "id": "64f67ae6-d09f-46a7-b5e8-b4f11cd283b3",
   "metadata": {},
   "outputs": [],
   "source": [
    "highwayDirectory = 'pics/2750/Highway'\n",
    " \n",
    "for filename in os.listdir(highwayDirectory):\n",
    "    txtFile = os.path.join(highwayDirectory, filename)\n",
    "    txtFiles.append(txtFile) # Append is een functie van lijsten en werkt niet bij\n",
    "    # print(txtFile)"
   ]
  },
  {
   "cell_type": "markdown",
   "id": "c878858c-a5c8-4c52-b093-13b46ae78b7d",
   "metadata": {},
   "source": [
    "<h3>Data filteren</h3>"
   ]
  },
  {
   "cell_type": "code",
   "execution_count": null,
   "id": "984a8cee-ab24-4880-af6c-168f7de17a9c",
   "metadata": {},
   "outputs": [],
   "source": [
    "txtFiles = [x for x in txtFiles if \".jpg\" in x] # manier op de .jpg te scheiden van de andere bestandtypes. \n",
    "\n",
    "print(txtFiles[9])"
   ]
  },
  {
   "cell_type": "markdown",
   "id": "ddfc7256-6b34-42c4-a97b-3f151a8ed0fa",
   "metadata": {},
   "source": [
    "<h3>Data inlezen</h3>"
   ]
  },
  {
   "cell_type": "code",
   "execution_count": null,
   "id": "eef4608d-3ea2-4e55-9b1f-d0d9906447b4",
   "metadata": {},
   "outputs": [],
   "source": [
    "imageObjects = np.zeros([len(txtFiles), 64, 64, 3]) \n",
    "# aanmaken van lege array van 64x64x3 pixels/datatype. (aantal arrays is 'len' van 'tekstfiles'.)\n",
    "\n",
    "i = 0\n",
    "\n",
    "for txtFile in txtFiles:\n",
    "    imageObjects[i] = np.asarray(Image.open(txtFile)).astype('uint8')/255 # Afbeelding wordt genormaliseerd.\n",
    "    i += 1\n",
    "\n",
    "\n",
    "# print(imageObjects[0])\n"
   ]
  },
  {
   "cell_type": "markdown",
   "id": "abc16b74-8f84-4256-9012-1e05669f1f54",
   "metadata": {},
   "source": [
    "**Gebruik de bestandsnamen voor het verkrijgen van de labels**"
   ]
  },
  {
   "cell_type": "code",
   "execution_count": null,
   "id": "894a04fb-e02a-4424-9d0a-2fde22c556c4",
   "metadata": {},
   "outputs": [],
   "source": [
    "# imageLabels = np.empty(len(txtFiles), dtype = 'S20')\n",
    "\n",
    "i = 0\n",
    "\n",
    "for label in txtFiles:\n",
    "    txtFiles[i] = label.split('/')[2]\n",
    "    i += 1\n",
    "    \n",
    "print(label)\n",
    "print(txtFiles[0])\n",
    "labelNames, labelNumbers = np.unique(txtFiles, return_inverse=True)\n",
    "labelDict = dict(zip(np.unique(labelNumbers), labelNames))\n",
    "print(labelNames)\n",
    "# print(labelNumbers)\n",
    "\n",
    "np.array(np.unique(labelNumbers, return_counts=True)).T"
   ]
  },
  {
   "cell_type": "code",
   "execution_count": null,
   "id": "6c6fdb90-bf3a-4569-a475-2e94b0c5bdd8",
   "metadata": {},
   "outputs": [],
   "source": [
    "# change them to integers in alphabetical order\n",
    "labelNames, labelNumbers = np.unique(txtFiles, return_inverse=True)\n",
    "labelDict = dict(zip(np.unique(labelNumbers), labelNames))\n",
    "print(labelNames)\n",
    "print(labelNumbers)\n",
    "\n",
    "np.array(np.unique(labelNumbers, return_counts=True)).T"
   ]
  },
  {
   "cell_type": "markdown",
   "id": "9af14b2c-47b2-4256-9f22-715218d60b74",
   "metadata": {},
   "source": [
    "<h3>Data splitten</h3>"
   ]
  },
  {
   "cell_type": "code",
   "execution_count": null,
   "id": "ef3d2e75-c904-44f7-b764-618226c22dae",
   "metadata": {},
   "outputs": [],
   "source": [
    "trainSet, testSet, trainLabels, testLabels = train_test_split(imageObjects, labelNumbers, stratify = labelNumbers, train_size = 0.75, random_state=42)\n",
    "print(trainSet.shape)\n",
    "nrOfImages = len(trainSet)\n"
   ]
  },
  {
   "cell_type": "markdown",
   "id": "11669120-c3b7-4d62-8e61-e3858002d973",
   "metadata": {},
   "source": [
    "<h3>Data inspecteren</h3>"
   ]
  },
  {
   "cell_type": "code",
   "execution_count": null,
   "id": "c5e3ce52-c40f-4225-8925-4f56df9b2cb5",
   "metadata": {},
   "outputs": [],
   "source": [
    "def inspectData():\n",
    "    \n",
    "    plt.figure(figsize=(10,10))\n",
    "    \n",
    "    for i in range(16):\n",
    "        plt.subplot(4, 4, i+1)\n",
    "        plt.xticks([])\n",
    "        plt.yticks([])\n",
    "        plt.grid(False)\n",
    "        number = i\n",
    "        plt.imshow(trainSet[number])\n",
    "        plt.xlabel(labelNames[trainLabels[number]]) \n",
    "    \n",
    "    # plt.show()"
   ]
  },
  {
   "cell_type": "code",
   "execution_count": null,
   "id": "4618bb10-dbf4-4167-afd8-581c4e10f613",
   "metadata": {},
   "outputs": [],
   "source": [
    "inspectData()    "
   ]
  },
  {
   "cell_type": "markdown",
   "id": "42d48666-b003-4d6a-a0e6-3e935ac3b2b0",
   "metadata": {},
   "source": [
    "<h2>Maak een model</h2>"
   ]
  },
  {
   "cell_type": "markdown",
   "id": "6fdfd7bb-8e13-4ccd-ac89-de74b66a699f",
   "metadata": {},
   "source": [
    "<h3>Definieer de netwerktopologie</h3>"
   ]
  },
  {
   "cell_type": "code",
   "execution_count": null,
   "id": "b1424490-7616-49ed-9059-f920aa6f36ba",
   "metadata": {},
   "outputs": [],
   "source": [
    "class_names = labelNames"
   ]
  },
  {
   "cell_type": "code",
   "execution_count": null,
   "id": "23bff1e2-8e30-4e01-b304-d96ff14b27a8",
   "metadata": {},
   "outputs": [],
   "source": [
    "num_classes = len(labelNames)\n",
    "\n",
    "model = models.Sequential()\n",
    "model.add(layers.Dense(3, input_shape = (64, 64, 3))) # Drie of twee inputs??!!\n",
    "model.add(layers.Flatten())\n",
    "model.add(layers.Dense(64, activation='relu'))\n",
    "model.add(layers.Dense(64, activation='relu'))\n",
    "model.add(layers.Dense(num_classes)) # outputs\n",
    "model.summary()\n",
    "\n",
    "\n"
   ]
  },
  {
   "cell_type": "markdown",
   "id": "d950cdba-ba82-4025-8644-8cb2eae14f48",
   "metadata": {},
   "source": [
    "<h3>Exercise 1</h3>\n",
    "<p>\n",
    "    Vul de netwerktopologie tot een bruikbaar Neural Netwerk onstaat.\n",
    "</p>"
   ]
  },
  {
   "cell_type": "markdown",
   "id": "378fefb6-5622-4322-a178-6f7e6a7153aa",
   "metadata": {},
   "source": [
    "<h3>Definieer de trainparameters</h3>"
   ]
  },
  {
   "cell_type": "code",
   "execution_count": null,
   "id": "66f6e049-28cc-4192-94be-316166183a44",
   "metadata": {},
   "outputs": [],
   "source": [
    "lossFunction = keras.losses.SparseCategoricalCrossentropy(from_logits=True)\n",
    "gdAlgorithm = keras.optimizers.Adam(learning_rate=0.001)\n",
    "nrOfEpochs = 20\n"
   ]
  },
  {
   "cell_type": "markdown",
   "id": "a68273b3-aa36-42d7-b883-1e0d7b89f21b",
   "metadata": {
    "tags": []
   },
   "source": [
    "<h3>Train het model</h3>"
   ]
  },
  {
   "cell_type": "code",
   "execution_count": null,
   "id": "a3295916-8bbe-4d40-a30a-71e90669cb2a",
   "metadata": {},
   "outputs": [],
   "source": [
    "model.compile(optimizer=gdAlgorithm, loss=lossFunction, metrics=\"accuracy\")\n",
    "history = model.fit(trainSet, trainLabels, epochs=nrOfEpochs, batch_size=64, verbose=2)\n"
   ]
  },
  {
   "cell_type": "code",
   "execution_count": null,
   "id": "d76bf1fa-292f-447d-a487-1e085cdcb34c",
   "metadata": {},
   "outputs": [],
   "source": [
    "# model.save('/Users/boyfrankclaesen/workspace/makeAIWork2/opdrachten/practica/week07/image_recognition/notebook/nn_trained')"
   ]
  },
  {
   "cell_type": "markdown",
   "id": "8f22414f-dd7e-408a-8834-b362bda15468",
   "metadata": {},
   "source": [
    "<h3>Test het model</h3>"
   ]
  },
  {
   "cell_type": "code",
   "execution_count": null,
   "id": "e6bf8bed-bcda-4b73-b16c-4b492c6ae99a",
   "metadata": {},
   "outputs": [],
   "source": [
    "model.compile(optimizer=gdAlgorithm, loss=lossFunction, metrics=\"accuracy\")\n",
    "historyTest = model.fit(testSet, testLabels, epochs=nrOfEpochs, batch_size=64, verbose=2)\n"
   ]
  },
  {
   "cell_type": "code",
   "execution_count": null,
   "id": "a89864e4-6695-4950-bcdf-6cc56a2562a9",
   "metadata": {},
   "outputs": [],
   "source": [
    "# make a plot from history and historyTest\n",
    "\n",
    "# summarize history for accuracy\n",
    "plt.plot(history.history['accuracy'])\n",
    "plt.plot(historyTest.history['accuracy'])\n",
    "plt.title('model accuracy')\n",
    "plt.ylabel('Accuracy')\n",
    "plt.xlabel('Epoch')\n",
    "plt.legend(['Train', 'Validation'], loc='upper left')\n",
    "plt.show()\n",
    "# plt.savefig('/Users/boyfrankclaesen/workspace/makeAIWork2/opdrachten/practica/week07/image_recognition/[NAME]')\n",
    "\n",
    "# summarize history for loss\n",
    "plt.plot(history.history['loss'])\n",
    "plt.plot(historyTest.history['loss'])\n",
    "plt.title('model loss')\n",
    "plt.ylabel('Loss')\n",
    "plt.xlabel('Epoch')\n",
    "plt.legend(['Train', 'Validation'], loc='upper left')\n",
    "plt.show()\n",
    "# plt.savefig('/Users/boyfrankclaesen/workspace/makeAIWork2/opdrachten/practica/week07/image_recognition/[NAME]')\n"
   ]
  },
  {
   "cell_type": "markdown",
   "id": "f566e5c6-6a10-452a-bfdc-64b27963f1c4",
   "metadata": {},
   "source": [
    "<h3>Exercise 2</h3>\n",
    "<p>\n",
    "    Test het Neural Netwerk met de testset en laat zien of het in staat is de juiste class te vinden.\n",
    "</p>"
   ]
  },
  {
   "cell_type": "code",
   "execution_count": 66,
   "id": "4c9e4217-f2de-41c8-b489-5d8514dc0411",
   "metadata": {},
   "outputs": [
    {
     "name": "stdout",
     "output_type": "stream",
     "text": [
      "This image most likely belongs to Highway with a 99.75 percent confidence. \n",
      "\n"
     ]
    },
    {
     "data": {
      "image/png": "[encoded data removed]",
      "text/plain": [
       "<Figure size 640x480 with 1 Axes>"
      ]
     },
     "metadata": {},
     "output_type": "display_data"
    }
   ],
   "source": [
    "# Option 1: prediction based on a downloaded and imported photo.\n",
    "\n",
    "openImage1 = load_img('River_7.jpg')\n",
    "openImage2 = load_img('River_250.jpg')\n",
    "openImage3 = load_img('Highway_12.jpg') \n",
    "openImage4 = load_img('Highway_11.jpg')\n",
    "openImage5 = load_img('Rotterdam1.png',target_size=(64, 64))\n",
    "openImage6 = load_img('Rotterdam2.png',target_size=(64, 64))\n",
    "openImage7 = load_img('Rotterdam3.png',target_size=(64, 64))\n",
    "                      \n",
    "                      \n",
    "def makePrediction(openImage): # functie voor om plaa\n",
    "    \n",
    "    img = np.asarray(openImage).astype('uint8')/255 # normaliseren van de foto.\n",
    "    img_array = tf.keras.utils.img_to_array(img)\n",
    "    img_array = tf.expand_dims(img_array, 0)\n",
    "\n",
    "    prediction = model.predict(img_array)\n",
    "    score = tf.nn.softmax(prediction[0])\n",
    "    print('This image most likely belongs to {} with a {:.2f} percent confidence.'\n",
    "         .format(labelNames[np.argmax(score)], 100 * np.max(score)),'\\n'\n",
    "         )\n",
    "    plt.imshow(img)\n",
    "    \n",
    "makePrediction(openImage7)\n"
   ]
  },
  {
   "cell_type": "code",
   "execution_count": 65,
   "id": "534bcda5-6080-41b4-83a7-3af3d70b8d79",
   "metadata": {},
   "outputs": [
    {
     "name": "stdout",
     "output_type": "stream",
     "text": [
      "tf.Tensor([7.639835e-05 9.999236e-01], shape=(2,), dtype=float32) \n",
      "\n",
      "This image most likely belongs to River with a 99.99 percent confidence.\n"
     ]
    },
    {
     "data": {
      "text/plain": [
       "<matplotlib.image.AxesImage at 0x148f604f0>"
      ]
     },
     "execution_count": 65,
     "metadata": {},
     "output_type": "execute_result"
    },
    {
     "data": {
      "image/png": "[encoded data removed]",
      "text/plain": [
       "<Figure size 640x480 with 1 Axes>"
      ]
     },
     "metadata": {},
     "output_type": "display_data"
    }
   ],
   "source": [
    "# Option 2: prediction of an image from the trainSet.\n",
    "\n",
    "i = 499\n",
    "img = trainSet[i]\n",
    "\n",
    "img_array = tf.keras.utils.img_to_array(img)\n",
    "img_array = tf.expand_dims(img_array, 0)\n",
    "\n",
    "prediction = model.predict(img_array)\n",
    "score = tf.nn.softmax(prediction[0])\n",
    "\n",
    "# print(prediction,'\\n')\n",
    "print(score,'\\n')\n",
    "\n",
    "\n",
    "print('This image most likely belongs to {} with a {:.2f} percent confidence.'\n",
    "     .format(labelNames[np.argmax(score)], 100 * np.max(score))\n",
    ")\n",
    "\n",
    "plt.imshow(img)\n"
   ]
  },
  {
   "cell_type": "code",
   "execution_count": 48,
   "id": "f1350783-859b-4a9c-883e-32cc2d48c47e",
   "metadata": {},
   "outputs": [
    {
     "data": {
      "image/png": "[encoded data removed]",
      "text/plain": [
       "<Figure size 640x480 with 2 Axes>"
      ]
     },
     "metadata": {},
     "output_type": "display_data"
    }
   ],
   "source": [
    "##### Create a confusion matrix:\n",
    "\n",
    "predicted = model.predict(testSet, batch_size = 16)   # testSet zijn de foto's!\n",
    "predicted = np.argmax(predicted, axis=-1)             # maakt '1' en '0' van de matrices\n",
    "# print(predicted)\n",
    "\n",
    "actual = np.argmax(testLabels,axis=-1)# testLabels\n",
    "\n",
    "confusion_matrix = metrics.confusion_matrix(testLabels, predicted)\n",
    "# print(confusion_matrix)\n",
    "\n",
    "#visual:\n",
    "cm_display = metrics.ConfusionMatrixDisplay(confusion_matrix = confusion_matrix, display_labels = ['Highway', 'River'])\n",
    "cm_display.plot()\n",
    "\n",
    "\n",
    "plt.show()\n",
    "# plt.savefig('/Users/boyfrankclaesen/workspace/makeAIWork2/opdrachten/practica/week07/image_recognition/notebook/confusion_matrix')"
   ]
  },
  {
   "cell_type": "code",
   "execution_count": null,
   "id": "9fd5e1cc-f221-4312-8d42-093e680462fe",
   "metadata": {},
   "outputs": [],
   "source": []
  }
 ],
 "metadata": {
  "kernelspec": {
   "display_name": "Python 3 (ipykernel)",
   "language": "python",
   "name": "python3"
  },
  "language_info": {
   "codemirror_mode": {
    "name": "ipython",
    "version": 3
   },
   "file_extension": ".py",
   "mimetype": "text/x-python",
   "name": "python",
   "nbconvert_exporter": "python",
   "pygments_lexer": "ipython3",
   "version": "3.9.13"
  },
  "vscode": {
   "interpreter": {
    "hash": "4a868478128082cb5ea3f8e684dd7cf0a14a2d1262b4ff6302d99ea6747d278e"
   }
  }
 },
 "nbformat": 4,
 "nbformat_minor": 5
}
