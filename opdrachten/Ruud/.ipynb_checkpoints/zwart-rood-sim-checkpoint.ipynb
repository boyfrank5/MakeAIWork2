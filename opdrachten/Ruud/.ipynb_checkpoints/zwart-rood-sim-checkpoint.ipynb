{
 "cells": [
  {
   "cell_type": "markdown",
   "id": "3f430533-2ac6-4557-a6ff-c7f96b3530da",
   "metadata": {
    "tags": []
   },
   "source": [
    "# Simulatie casino kansspel"
   ]
  },
  {
   "cell_type": "markdown",
   "id": "d9ee1a06-6308-4d02-973b-05337c7035c5",
   "metadata": {},
   "source": [
    "![roulette](roulette-red.jpg)"
   ]
  },
  {
   "cell_type": "markdown",
   "id": "48902cf8-23e7-4396-a74b-ce74a7bba3a7",
   "metadata": {},
   "source": [
    "## Spelregels"
   ]
  },
  {
   "cell_type": "markdown",
   "id": "44744256-08d4-4768-9306-a9fabe138687",
   "metadata": {},
   "source": [
    "1. Speler kan inzetten op **zwart** of **rood**\n",
    "2. Inzet is **\\\\$10**\n",
    "3. Kleur juist geraden is verdubbeling van de inzet dus **\\\\$20**\n",
    "4. Spel stopt als geld op is"
   ]
  },
  {
   "cell_type": "markdown",
   "id": "5c0f86a5-921e-4051-8e83-678337ec8bf3",
   "metadata": {
    "tags": []
   },
   "source": [
    "## Probleem doorgronden (analyse)"
   ]
  },
  {
   "cell_type": "markdown",
   "id": "71d71a50-2199-49bd-a3a0-27a6428ffc29",
   "metadata": {},
   "source": [
    "Doel: bepalen hoeveel ronden te spelen met **$40**\n",
    "\n",
    "1. Hoe bepalen we of het rood of zwart wordt?\n",
    "2. Hoe bepalen we wat de speler kiest?\n",
    "3. Hoe bepalen we wat we moeten uitkeren?\n",
    "4. Hoe houden we het geld van de speler bij?"
   ]
  },
  {
   "cell_type": "markdown",
   "id": "033e2436-801f-41e0-b696-320391f3a920",
   "metadata": {},
   "source": [
    "## Aanpak in grote lijnen (schetsen)"
   ]
  },
  {
   "cell_type": "code",
   "execution_count": 1,
   "id": "cf7a4597-0f93-4d77-b014-f1aceda7b826",
   "metadata": {},
   "outputs": [],
   "source": [
    "# Situation 1: how many rounds can player play with $40?\n",
    "\n",
    "# Player starts with $40\n",
    "\n",
    "# While playerBank > 0:\n",
    "    # 1. Place bet: choose color and subtract $10\n",
    "    # 2. Casino rolls dice to determine color outcome\n",
    "    # 3. Check if win or lose\n",
    "    # 4. Update bank\n",
    "    # 5. Update round counter\n",
    "\n",
    "# Print #rounds"
   ]
  },
  {
   "cell_type": "markdown",
   "id": "8d6169e5-ef62-420b-80bf-b80f82e0d487",
   "metadata": {
    "tags": []
   },
   "source": [
    "## Bepalen rood/zwart (implementatie)"
   ]
  },
  {
   "cell_type": "code",
   "execution_count": 2,
   "id": "03dddf46-f8ef-4fa8-9335-9bee3b9f90f6",
   "metadata": {
    "tags": []
   },
   "outputs": [],
   "source": [
    "import random as rd\n",
    "from random import random \n",
    "\n",
    "# Labels for readability\n",
    "Red = 'red'\n",
    "Black = 'black'\n",
    "Green = 'green'\n",
    "\n",
    "def roll():\n",
    "\n",
    "    if random() < 0.5:\n",
    "        return Red\n",
    "    else: \n",
    "        return Black\n",
    "\n"
   ]
  },
  {
   "cell_type": "markdown",
   "id": "9fcca076-634a-4040-9a50-edd5c082b3b1",
   "metadata": {},
   "source": [
    "## Uitwerken comments (implementatie)"
   ]
  },
  {
   "cell_type": "code",
   "execution_count": 3,
   "id": "ad70b343-461c-464e-9566-80ffc88eaf34",
   "metadata": {},
   "outputs": [
    {
     "ename": "NameError",
     "evalue": "name 'Black' is not defined",
     "output_type": "error",
     "traceback": [
      "\u001b[0;31m---------------------------------------------------------------------------\u001b[0m",
      "\u001b[0;31mNameError\u001b[0m                                 Traceback (most recent call last)",
      "Cell \u001b[0;32mIn [3], line 9\u001b[0m\n\u001b[1;32m      6\u001b[0m \u001b[38;5;66;03m# Simulation starts here\u001b[39;00m\n\u001b[1;32m      7\u001b[0m \u001b[38;5;28;01mwhile\u001b[39;00m playerBalance \u001b[38;5;241m>\u001b[39m \u001b[38;5;241m0\u001b[39m:\n\u001b[1;32m      8\u001b[0m     \u001b[38;5;66;03m#1. Place bet: choose color and subtract 10$\u001b[39;00m\n\u001b[0;32m----> 9\u001b[0m     choice \u001b[38;5;241m=\u001b[39m Black\n\u001b[1;32m     10\u001b[0m     playerBalance \u001b[38;5;241m-\u001b[39m\u001b[38;5;241m=\u001b[39m \u001b[38;5;241m10\u001b[39m\n\u001b[1;32m     11\u001b[0m     \u001b[38;5;66;03m#2. Casino rolls ball in order to determine color outhome\u001b[39;00m\n",
      "\u001b[0;31mNameError\u001b[0m: name 'Black' is not defined"
     ]
    }
   ],
   "source": [
    "playerBalance = 40 \n",
    "\n",
    "rounds = 0\n",
    "maxBank = 0\n",
    "\n",
    "# Simulation starts here\n",
    "while playerBalance > 0:\n",
    "    #1. Place bet: choose color and subtract 10$\n",
    "    choice = Black\n",
    "    playerBalance -= 10\n",
    "    #2. Casino rolls ball in order to determine color outhome\n",
    "    casinoOutcome = roll()\n",
    "    #3. Check win or lose\n",
    "    if choice == casinoOutcome:\n",
    "        4. #Update bank: +20$ if correct\n",
    "        playerBalance += 20 \n",
    "    #5. Update round counter\n",
    "    rounds += 1\n",
    "    # Check max balance\n",
    "    if maxBank < playerBalance:\n",
    "        maxBank = playerBalance\n",
    "    \n",
    "    \n",
    "print(rounds)\n",
    "print(maxBank)\n"
   ]
  },
  {
   "cell_type": "code",
   "execution_count": null,
   "id": "16216de5-600e-41ff-a199-7ab239a30e02",
   "metadata": {},
   "outputs": [],
   "source": [
    "Red = 'red'\n",
    "Black = 'black'\n",
    "Green = 'green'\n",
    "\n",
    "playerBalance = 40 \n",
    "\n",
    "def real():\n",
    "    num = random()\n",
    "    if num <= 1/37:\n",
    "        return Green\n",
    "    elif num < 19/37:\n",
    "        return Black\n",
    "    else: \n",
    "        return Red\n",
    "\n",
    "rounds = 0\n",
    "maxBank = 0\n",
    "\n",
    "# Simulation starts here\n",
    "while playerBalance > 0:\n",
    "    #1. Place bet: choose color and subtract 10$\n",
    "    choice = Black\n",
    "    playerBalance -= 10\n",
    "    #2. Casino rolls ball in order to determine color outhome\n",
    "    casinoOutcome = roll()\n",
    "    #3. Check win or lose\n",
    "    if choice == casinoOutcome:\n",
    "        4. #Update bank: +20$ if correct\n",
    "        playerBalance += 20 \n",
    "    #5. Update round counter\n",
    "    rounds += 1\n",
    "    # Check max balance\n",
    "    if maxBank < playerBalance:\n",
    "        maxBank = playerBalance\n",
    "    \n",
    "    \n",
    "print(rounds)\n",
    "print(maxBank)\n"
   ]
  },
  {
   "cell_type": "code",
   "execution_count": null,
   "id": "ebdf0723-ada0-46cd-9ae6-6adfe5b18742",
   "metadata": {},
   "outputs": [],
   "source": [
    "#2"
   ]
  },
  {
   "cell_type": "code",
   "execution_count": null,
   "id": "d06c6fd3-2cf8-42c5-9bcd-3ccc8b044144",
   "metadata": {},
   "outputs": [],
   "source": [
    "#3"
   ]
  },
  {
   "cell_type": "code",
   "execution_count": null,
   "id": "4bbf6b55-3762-4cd1-b46d-f86c8819f50b",
   "metadata": {},
   "outputs": [],
   "source": [
    "#4"
   ]
  },
  {
   "cell_type": "code",
   "execution_count": null,
   "id": "36468d00-666f-4a46-a7ce-e2b163c8a30f",
   "metadata": {},
   "outputs": [],
   "source": [
    "#5"
   ]
  },
  {
   "cell_type": "code",
   "execution_count": null,
   "id": "2bd73065-a465-4c16-82b4-387ed47c67ed",
   "metadata": {},
   "outputs": [],
   "source": [
    "#6 print/test"
   ]
  }
 ],
 "metadata": {
  "kernelspec": {
   "display_name": "Python 3 (ipykernel)",
   "language": "python",
   "name": "python3"
  },
  "language_info": {
   "codemirror_mode": {
    "name": "ipython",
    "version": 3
   },
   "file_extension": ".py",
   "mimetype": "text/x-python",
   "name": "python",
   "nbconvert_exporter": "python",
   "pygments_lexer": "ipython3",
   "version": "3.9.13"
  },
  "toc-showcode": false,
  "toc-showmarkdowntxt": false
 },
 "nbformat": 4,
 "nbformat_minor": 5
}
